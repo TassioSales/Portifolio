{
 "cells": [
  {
   "cell_type": "code",
   "execution_count": 2,
   "metadata": {},
   "outputs": [],
   "source": [
    "import pandas as pd\n",
    "import csv \n",
    "import requests"
   ]
  },
  {
   "cell_type": "code",
   "execution_count": 5,
   "metadata": {},
   "outputs": [],
   "source": [
    "df = pd.read_csv('https://raw.githubusercontent.com/TassioSales/Portifolio/main/Frases_motivacionais/frases_motivacionaiss.csv', sep=';', encoding='utf-8')"
   ]
  },
  {
   "cell_type": "code",
   "execution_count": 15,
   "metadata": {},
   "outputs": [],
   "source": [
    "df2 = pd.read_csv('frases_desmotivacionais.csv', sep=';')"
   ]
  },
  {
   "cell_type": "code",
   "execution_count": 16,
   "metadata": {},
   "outputs": [
    {
     "data": {
      "text/html": [
       "<div>\n",
       "<style scoped>\n",
       "    .dataframe tbody tr th:only-of-type {\n",
       "        vertical-align: middle;\n",
       "    }\n",
       "\n",
       "    .dataframe tbody tr th {\n",
       "        vertical-align: top;\n",
       "    }\n",
       "\n",
       "    .dataframe thead th {\n",
       "        text-align: right;\n",
       "    }\n",
       "</style>\n",
       "<table border=\"1\" class=\"dataframe\">\n",
       "  <thead>\n",
       "    <tr style=\"text-align: right;\">\n",
       "      <th></th>\n",
       "      <th>Frase_desmotivacionais</th>\n",
       "    </tr>\n",
       "  </thead>\n",
       "  <tbody>\n",
       "    <tr>\n",
       "      <th>0</th>\n",
       "      <td>Sonhar e se frustrar porque alguém realizou se...</td>\n",
       "    </tr>\n",
       "    <tr>\n",
       "      <th>1</th>\n",
       "      <td>Não tem como subir a ladeira que se transformo...</td>\n",
       "    </tr>\n",
       "    <tr>\n",
       "      <th>2</th>\n",
       "      <td>Pode ser que seu propósito na vida seja nunca ...</td>\n",
       "    </tr>\n",
       "    <tr>\n",
       "      <th>3</th>\n",
       "      <td>O importante é acreditar na derrota e talvez s...</td>\n",
       "    </tr>\n",
       "    <tr>\n",
       "      <th>4</th>\n",
       "      <td>Os que não param de lutar estão sempre em busc...</td>\n",
       "    </tr>\n",
       "    <tr>\n",
       "      <th>5</th>\n",
       "      <td>As piores coisas da sua vida podem acontecer s...</td>\n",
       "    </tr>\n",
       "    <tr>\n",
       "      <th>6</th>\n",
       "      <td>A esperança já te fez fazer coisas doidas e qu...</td>\n",
       "    </tr>\n",
       "    <tr>\n",
       "      <th>7</th>\n",
       "      <td>O desespero é o que move as pessoas, não a esp...</td>\n",
       "    </tr>\n",
       "    <tr>\n",
       "      <th>8</th>\n",
       "      <td>Você não é especial e os outros também não são...</td>\n",
       "    </tr>\n",
       "    <tr>\n",
       "      <th>9</th>\n",
       "      <td>O empate é o melhor resultado porque ninguém s...</td>\n",
       "    </tr>\n",
       "    <tr>\n",
       "      <th>10</th>\n",
       "      <td>Todos esperam que você falhe. Então, lute até ...</td>\n",
       "    </tr>\n",
       "    <tr>\n",
       "      <th>11</th>\n",
       "      <td>Acredite quando falarem que não vai dar certo ...</td>\n",
       "    </tr>\n",
       "    <tr>\n",
       "      <th>12</th>\n",
       "      <td>Não tenho pressa porque vai dar errado se eu c...</td>\n",
       "    </tr>\n",
       "    <tr>\n",
       "      <th>13</th>\n",
       "      <td>O caminho não fica mais difícil, você é que fi...</td>\n",
       "    </tr>\n",
       "    <tr>\n",
       "      <th>14</th>\n",
       "      <td>Nada nunca fica mais fácil. Apenas a dificulda...</td>\n",
       "    </tr>\n",
       "    <tr>\n",
       "      <th>15</th>\n",
       "      <td>A frustração me ensinou que fazer nada não ger...</td>\n",
       "    </tr>\n",
       "    <tr>\n",
       "      <th>16</th>\n",
       "      <td>Para não se decepcionar, apenas não confie em ...</td>\n",
       "    </tr>\n",
       "    <tr>\n",
       "      <th>17</th>\n",
       "      <td>Não é falta de sorte, é incompetência.</td>\n",
       "    </tr>\n",
       "    <tr>\n",
       "      <th>18</th>\n",
       "      <td>Desistindo de tentar e sendo vitorioso em desi...</td>\n",
       "    </tr>\n",
       "    <tr>\n",
       "      <th>19</th>\n",
       "      <td>Se você mudar de ângulo, vai perceber que não ...</td>\n",
       "    </tr>\n",
       "    <tr>\n",
       "      <th>20</th>\n",
       "      <td>Você pode trabalhar muito, mas a sua conta ban...</td>\n",
       "    </tr>\n",
       "    <tr>\n",
       "      <th>21</th>\n",
       "      <td>Haverá dias ruins e eles serão sempre maiores ...</td>\n",
       "    </tr>\n",
       "    <tr>\n",
       "      <th>22</th>\n",
       "      <td>Sem motivação, sem frustração porque não há aç...</td>\n",
       "    </tr>\n",
       "    <tr>\n",
       "      <th>23</th>\n",
       "      <td>A empolgação da sexta-feira jamais será igual ...</td>\n",
       "    </tr>\n",
       "    <tr>\n",
       "      <th>24</th>\n",
       "      <td>Lembrar que sou limitado me impede de tentar a...</td>\n",
       "    </tr>\n",
       "    <tr>\n",
       "      <th>25</th>\n",
       "      <td>Conforme o esperado, nada saiu como o planejado.</td>\n",
       "    </tr>\n",
       "    <tr>\n",
       "      <th>26</th>\n",
       "      <td>Tudo certo, nada acontecendo do jeito que eu e...</td>\n",
       "    </tr>\n",
       "    <tr>\n",
       "      <th>27</th>\n",
       "      <td>Se não fossem os meus boletos, eu não precisar...</td>\n",
       "    </tr>\n",
       "    <tr>\n",
       "      <th>28</th>\n",
       "      <td>No tempo certo, as coisas se ajeitam. Elas dão...</td>\n",
       "    </tr>\n",
       "    <tr>\n",
       "      <th>29</th>\n",
       "      <td>Respire fundo e se prepare para o próximo frac...</td>\n",
       "    </tr>\n",
       "    <tr>\n",
       "      <th>30</th>\n",
       "      <td>Decidi que não preciso mais comer ou sonhar po...</td>\n",
       "    </tr>\n",
       "    <tr>\n",
       "      <th>31</th>\n",
       "      <td>As derrotas sempre chegam para os que lutam e ...</td>\n",
       "    </tr>\n",
       "    <tr>\n",
       "      <th>32</th>\n",
       "      <td>Se há algo em que eu não falho é em perder.</td>\n",
       "    </tr>\n",
       "    <tr>\n",
       "      <th>33</th>\n",
       "      <td>Nunca duvide da sua capacidade de falhar em al...</td>\n",
       "    </tr>\n",
       "    <tr>\n",
       "      <th>34</th>\n",
       "      <td>Os outros não são problema seu, mas você é.</td>\n",
       "    </tr>\n",
       "    <tr>\n",
       "      <th>35</th>\n",
       "      <td>Não pense porque já deu tudo errado que as coi...</td>\n",
       "    </tr>\n",
       "    <tr>\n",
       "      <th>36</th>\n",
       "      <td>Podemos sempre falhar mais do que já falhamos ...</td>\n",
       "    </tr>\n",
       "    <tr>\n",
       "      <th>37</th>\n",
       "      <td>A vida se transforma sempre, às vezes, em algo...</td>\n",
       "    </tr>\n",
       "    <tr>\n",
       "      <th>38</th>\n",
       "      <td>Não será fácil e, no final, o esforço não vale...</td>\n",
       "    </tr>\n",
       "    <tr>\n",
       "      <th>39</th>\n",
       "      <td>Você é o único capaz de acabar com seus proble...</td>\n",
       "    </tr>\n",
       "    <tr>\n",
       "      <th>40</th>\n",
       "      <td>O gosto da vitória é momentâneo, o do fracasso...</td>\n",
       "    </tr>\n",
       "    <tr>\n",
       "      <th>41</th>\n",
       "      <td>A vida é difícil e fica mais difícil se você d...</td>\n",
       "    </tr>\n",
       "    <tr>\n",
       "      <th>42</th>\n",
       "      <td>Não arrume briga com a vida, apenas deixe ela ...</td>\n",
       "    </tr>\n",
       "    <tr>\n",
       "      <th>43</th>\n",
       "      <td>Não culpe os outros pelos seus erros quando o ...</td>\n",
       "    </tr>\n",
       "  </tbody>\n",
       "</table>\n",
       "</div>"
      ],
      "text/plain": [
       "                               Frase_desmotivacionais\n",
       "0   Sonhar e se frustrar porque alguém realizou se...\n",
       "1   Não tem como subir a ladeira que se transformo...\n",
       "2   Pode ser que seu propósito na vida seja nunca ...\n",
       "3   O importante é acreditar na derrota e talvez s...\n",
       "4   Os que não param de lutar estão sempre em busc...\n",
       "5   As piores coisas da sua vida podem acontecer s...\n",
       "6   A esperança já te fez fazer coisas doidas e qu...\n",
       "7   O desespero é o que move as pessoas, não a esp...\n",
       "8   Você não é especial e os outros também não são...\n",
       "9   O empate é o melhor resultado porque ninguém s...\n",
       "10  Todos esperam que você falhe. Então, lute até ...\n",
       "11  Acredite quando falarem que não vai dar certo ...\n",
       "12  Não tenho pressa porque vai dar errado se eu c...\n",
       "13  O caminho não fica mais difícil, você é que fi...\n",
       "14  Nada nunca fica mais fácil. Apenas a dificulda...\n",
       "15  A frustração me ensinou que fazer nada não ger...\n",
       "16  Para não se decepcionar, apenas não confie em ...\n",
       "17             Não é falta de sorte, é incompetência.\n",
       "18  Desistindo de tentar e sendo vitorioso em desi...\n",
       "19  Se você mudar de ângulo, vai perceber que não ...\n",
       "20  Você pode trabalhar muito, mas a sua conta ban...\n",
       "21  Haverá dias ruins e eles serão sempre maiores ...\n",
       "22  Sem motivação, sem frustração porque não há aç...\n",
       "23  A empolgação da sexta-feira jamais será igual ...\n",
       "24  Lembrar que sou limitado me impede de tentar a...\n",
       "25   Conforme o esperado, nada saiu como o planejado.\n",
       "26  Tudo certo, nada acontecendo do jeito que eu e...\n",
       "27  Se não fossem os meus boletos, eu não precisar...\n",
       "28  No tempo certo, as coisas se ajeitam. Elas dão...\n",
       "29  Respire fundo e se prepare para o próximo frac...\n",
       "30  Decidi que não preciso mais comer ou sonhar po...\n",
       "31  As derrotas sempre chegam para os que lutam e ...\n",
       "32        Se há algo em que eu não falho é em perder.\n",
       "33  Nunca duvide da sua capacidade de falhar em al...\n",
       "34       Os outros não são problema seu, mas você é. \n",
       "35  Não pense porque já deu tudo errado que as coi...\n",
       "36  Podemos sempre falhar mais do que já falhamos ...\n",
       "37  A vida se transforma sempre, às vezes, em algo...\n",
       "38  Não será fácil e, no final, o esforço não vale...\n",
       "39  Você é o único capaz de acabar com seus proble...\n",
       "40  O gosto da vitória é momentâneo, o do fracasso...\n",
       "41  A vida é difícil e fica mais difícil se você d...\n",
       "42  Não arrume briga com a vida, apenas deixe ela ...\n",
       "43  Não culpe os outros pelos seus erros quando o ..."
      ]
     },
     "execution_count": 16,
     "metadata": {},
     "output_type": "execute_result"
    }
   ],
   "source": [
    "df2"
   ]
  },
  {
   "cell_type": "code",
   "execution_count": 48,
   "metadata": {},
   "outputs": [
    {
     "ename": "FileNotFoundError",
     "evalue": "[Errno 2] No such file or directory: 'https://github.com/TassioSales/Portifolio/blob/95099cfeb5a4c1769729c7c70a049493a7a39d16/Frases_motivacionais/frases_motivacionaiss.csv'",
     "output_type": "error",
     "traceback": [
      "\u001b[1;31m---------------------------------------------------------------------------\u001b[0m",
      "\u001b[1;31mFileNotFoundError\u001b[0m                         Traceback (most recent call last)",
      "Cell \u001b[1;32mIn [48], line 1\u001b[0m\n\u001b[1;32m----> 1\u001b[0m \u001b[38;5;28;01mwith\u001b[39;00m \u001b[38;5;28;43mopen\u001b[39;49m\u001b[43m(\u001b[49m\u001b[38;5;124;43m'\u001b[39;49m\u001b[38;5;124;43mhttps://github.com/TassioSales/Portifolio/blob/95099cfeb5a4c1769729c7c70a049493a7a39d16/Frases_motivacionais/frases_motivacionaiss.csv\u001b[39;49m\u001b[38;5;124;43m'\u001b[39;49m\u001b[43m,\u001b[49m\u001b[43m \u001b[49m\u001b[38;5;124;43m'\u001b[39;49m\u001b[38;5;124;43mr\u001b[39;49m\u001b[38;5;124;43m'\u001b[39;49m\u001b[43m)\u001b[49m \u001b[38;5;28;01mas\u001b[39;00m f:\n\u001b[0;32m      2\u001b[0m     reader \u001b[38;5;241m=\u001b[39m csv\u001b[38;5;241m.\u001b[39mreader(f)\n\u001b[0;32m      3\u001b[0m     \u001b[38;5;28;01mfor\u001b[39;00m row \u001b[38;5;129;01min\u001b[39;00m reader:\n",
      "\u001b[1;31mFileNotFoundError\u001b[0m: [Errno 2] No such file or directory: 'https://github.com/TassioSales/Portifolio/blob/95099cfeb5a4c1769729c7c70a049493a7a39d16/Frases_motivacionais/frases_motivacionaiss.csv'"
     ]
    }
   ],
   "source": [
    "#ler o arquivo csv com requests\n",
    "url = 'https://raw.githubusercontent.com/TassioSales/Portifolio/main/Frases_motivacionais/frases_motivacionaiss.csv'"
   ]
  },
  {
   "cell_type": "code",
   "execution_count": 43,
   "metadata": {},
   "outputs": [],
   "source": [
    "#recomendaçao de frases motivacionais\n",
    "import emoji\n",
    "\n",
    "def recomendaçao():\n",
    "    recomendaçao = df['Frase_motivacionais'].sample(1).values[0]\n",
    "    #mostra a frase\n",
    "    print(recomendaçao)\n",
    "    #mostra o emoji aleatorio\n",
    "    \n",
    "    "
   ]
  },
  {
   "cell_type": "code",
   "execution_count": 44,
   "metadata": {},
   "outputs": [
    {
     "name": "stdout",
     "output_type": "stream",
     "text": [
      "A primavera chegará, mesmo que ninguém mais saiba seu nome, nem acredite no calendário, nem possua jardim para recebê-la.\n",
      "👍\n"
     ]
    }
   ],
   "source": [
    "recomendaçao()"
   ]
  },
  {
   "cell_type": "code",
   "execution_count": 33,
   "metadata": {},
   "outputs": [
    {
     "name": "stdout",
     "output_type": "stream",
     "text": [
      "Acredite em si próprio e chegará um dia em que os outros não terão outra escolha senão acreditar com você.\n"
     ]
    }
   ],
   "source": [
    "recomendaçao()"
   ]
  },
  {
   "cell_type": "code",
   "execution_count": 28,
   "metadata": {},
   "outputs": [
    {
     "data": {
      "text/html": [
       "<div>\n",
       "<style scoped>\n",
       "    .dataframe tbody tr th:only-of-type {\n",
       "        vertical-align: middle;\n",
       "    }\n",
       "\n",
       "    .dataframe tbody tr th {\n",
       "        vertical-align: top;\n",
       "    }\n",
       "\n",
       "    .dataframe thead th {\n",
       "        text-align: right;\n",
       "    }\n",
       "</style>\n",
       "<table border=\"1\" class=\"dataframe\">\n",
       "  <thead>\n",
       "    <tr style=\"text-align: right;\">\n",
       "      <th></th>\n",
       "      <th>Frase_motivacionais</th>\n",
       "    </tr>\n",
       "  </thead>\n",
       "  <tbody>\n",
       "    <tr>\n",
       "      <th>43</th>\n",
       "      <td>Você precisa fazer aquilo que pensa que não é ...</td>\n",
       "    </tr>\n",
       "  </tbody>\n",
       "</table>\n",
       "</div>"
      ],
      "text/plain": [
       "                                  Frase_motivacionais\n",
       "43  Você precisa fazer aquilo que pensa que não é ..."
      ]
     },
     "execution_count": 28,
     "metadata": {},
     "output_type": "execute_result"
    }
   ],
   "source": [
    "recoc"
   ]
  },
  {
   "cell_type": "code",
   "execution_count": 19,
   "metadata": {},
   "outputs": [],
   "source": [
    "#salvar dataframe em csv\n",
    "df.to_csv('frases_motivacionaiss.csv', sep=';', encoding='utf-8', index=False)"
   ]
  }
 ],
 "metadata": {
  "kernelspec": {
   "display_name": "Python 3.10.4 64-bit",
   "language": "python",
   "name": "python3"
  },
  "language_info": {
   "codemirror_mode": {
    "name": "ipython",
    "version": 3
   },
   "file_extension": ".py",
   "mimetype": "text/x-python",
   "name": "python",
   "nbconvert_exporter": "python",
   "pygments_lexer": "ipython3",
   "version": "3.10.4"
  },
  "orig_nbformat": 4,
  "vscode": {
   "interpreter": {
    "hash": "b791338c3e88062bab114cb03291c948bb196a0ab0843e63e81bf93440029bb6"
   }
  }
 },
 "nbformat": 4,
 "nbformat_minor": 2
}
