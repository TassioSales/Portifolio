{
 "cells": [
  {
   "cell_type": "code",
   "execution_count": 29,
   "metadata": {},
   "outputs": [],
   "source": [
    "import pandas as pd\n",
    "import csv \n",
    "import requests\n",
    "import random"
   ]
  },
  {
   "cell_type": "code",
   "execution_count": null,
   "metadata": {},
   "outputs": [],
   "source": [
    "df5= pd.read_csv('motivacionais.csv', sep=',', encoding='utf-8')"
   ]
  },
  {
   "cell_type": "code",
   "execution_count": null,
   "metadata": {},
   "outputs": [],
   "source": [
    "#descer o nome da coluna pra linha 0\n",
    "df5.columns = df5.iloc[0]\n",
    "df5 = df5[1:]\n"
   ]
  },
  {
   "cell_type": "code",
   "execution_count": null,
   "metadata": {},
   "outputs": [],
   "source": [
    "df = pd.read_csv('piadas.csv', sep=';', encoding='utf-8')"
   ]
  },
  {
   "cell_type": "code",
   "execution_count": null,
   "metadata": {},
   "outputs": [],
   "source": [
    "dados = pd.read_csv('frases_motivacionais.csv', sep=',', encoding='utf-8')"
   ]
  },
  {
   "cell_type": "code",
   "execution_count": 40,
   "metadata": {},
   "outputs": [],
   "source": [
    "df_piadas_ruins = pd.read_csv('https://raw.githubusercontent.com/TassioSales/Portifolio/main/Frases_motivacionais/piadas_ruins.csv', sep=';', encoding='utf-8')"
   ]
  },
  {
   "cell_type": "code",
   "execution_count": 41,
   "metadata": {},
   "outputs": [
    {
     "data": {
      "text/html": [
       "<div>\n",
       "<style scoped>\n",
       "    .dataframe tbody tr th:only-of-type {\n",
       "        vertical-align: middle;\n",
       "    }\n",
       "\n",
       "    .dataframe tbody tr th {\n",
       "        vertical-align: top;\n",
       "    }\n",
       "\n",
       "    .dataframe thead th {\n",
       "        text-align: right;\n",
       "    }\n",
       "</style>\n",
       "<table border=\"1\" class=\"dataframe\">\n",
       "  <thead>\n",
       "    <tr style=\"text-align: right;\">\n",
       "      <th></th>\n",
       "      <th>piada</th>\n",
       "      <th>resposta</th>\n",
       "    </tr>\n",
       "  </thead>\n",
       "  <tbody>\n",
       "    <tr>\n",
       "      <th>0</th>\n",
       "      <td>– Por que a aranha é o animal mais carente do ...</td>\n",
       "      <td>– Porque ela é um aracneedyou</td>\n",
       "    </tr>\n",
       "    <tr>\n",
       "      <th>1</th>\n",
       "      <td>– Sabia que tomar suco devagar é mais gostoso?</td>\n",
       "      <td>– Porque é mais sucolento.</td>\n",
       "    </tr>\n",
       "    <tr>\n",
       "      <th>2</th>\n",
       "      <td>– Por que o pinheiro não se perde na floresta?</td>\n",
       "      <td>– Porque ele tem uma pinha (um “mapinha”)</td>\n",
       "    </tr>\n",
       "    <tr>\n",
       "      <th>3</th>\n",
       "      <td>– Viu que a vó tá sem relógio?</td>\n",
       "      <td>– Pois é, já é uma sem hora.</td>\n",
       "    </tr>\n",
       "    <tr>\n",
       "      <th>4</th>\n",
       "      <td>– Sabe como é a piada do pintinho caipira?</td>\n",
       "      <td>– Pir.</td>\n",
       "    </tr>\n",
       "    <tr>\n",
       "      <th>...</th>\n",
       "      <td>...</td>\n",
       "      <td>...</td>\n",
       "    </tr>\n",
       "    <tr>\n",
       "      <th>67</th>\n",
       "      <td>O que um tijolo falou para o outro?</td>\n",
       "      <td>Há um cimento entre nós.</td>\n",
       "    </tr>\n",
       "    <tr>\n",
       "      <th>68</th>\n",
       "      <td>Por que a macaca Chita ficou braba com o Tarzan?</td>\n",
       "      <td>Porque ele é amigo da onça.</td>\n",
       "    </tr>\n",
       "    <tr>\n",
       "      <th>69</th>\n",
       "      <td>Como fazer um nó em duas motos?</td>\n",
       "      <td>Pega as duas e Yamaha.</td>\n",
       "    </tr>\n",
       "    <tr>\n",
       "      <th>70</th>\n",
       "      <td>Há duas palavras que abrem muitas portas.</td>\n",
       "      <td>Quais são? - Puxe e empurre.</td>\n",
       "    </tr>\n",
       "    <tr>\n",
       "      <th>71</th>\n",
       "      <td>O que o Aquaman faz para salvar o mundo?</td>\n",
       "      <td>Nada.</td>\n",
       "    </tr>\n",
       "  </tbody>\n",
       "</table>\n",
       "<p>72 rows × 2 columns</p>\n",
       "</div>"
      ],
      "text/plain": [
       "                                                piada  \\\n",
       "0   – Por que a aranha é o animal mais carente do ...   \n",
       "1      – Sabia que tomar suco devagar é mais gostoso?   \n",
       "2      – Por que o pinheiro não se perde na floresta?   \n",
       "3                      – Viu que a vó tá sem relógio?   \n",
       "4          – Sabe como é a piada do pintinho caipira?   \n",
       "..                                                ...   \n",
       "67                O que um tijolo falou para o outro?   \n",
       "68   Por que a macaca Chita ficou braba com o Tarzan?   \n",
       "69                    Como fazer um nó em duas motos?   \n",
       "70          Há duas palavras que abrem muitas portas.   \n",
       "71           O que o Aquaman faz para salvar o mundo?   \n",
       "\n",
       "                                     resposta  \n",
       "0              – Porque ela é um aracneedyou   \n",
       "1                  – Porque é mais sucolento.  \n",
       "2   – Porque ele tem uma pinha (um “mapinha”)  \n",
       "3                – Pois é, já é uma sem hora.  \n",
       "4                                      – Pir.  \n",
       "..                                        ...  \n",
       "67                   Há um cimento entre nós.  \n",
       "68                Porque ele é amigo da onça.  \n",
       "69                     Pega as duas e Yamaha.  \n",
       "70               Quais são? - Puxe e empurre.  \n",
       "71                                      Nada.  \n",
       "\n",
       "[72 rows x 2 columns]"
      ]
     },
     "execution_count": 41,
     "metadata": {},
     "output_type": "execute_result"
    }
   ],
   "source": [
    "df_piadas_ruins"
   ]
  },
  {
   "cell_type": "code",
   "execution_count": 31,
   "metadata": {},
   "outputs": [],
   "source": [
    "#renomear as colunas\n",
    "piadas_ruins = {'Pergunta': df_piadas['piada'].tolist(), 'Resposta': df_piadas['resposta'].tolist()}"
   ]
  },
  {
   "cell_type": "code",
   "execution_count": 25,
   "metadata": {},
   "outputs": [
    {
     "name": "stdout",
     "output_type": "stream",
     "text": [
      "– Por que a aranha é o animal mais carente do mundo? – Porque ela é um aracneedyou \n",
      "– Sabia que tomar suco devagar é mais gostoso? – Porque é mais sucolento.\n"
     ]
    }
   ],
   "source": [
    "#ver a primeira pergunta e reportas\n",
    "print(piadas_ruins['Pergunta'][0], piadas_ruins['Resposta'][0])\n",
    "print(piadas_ruins['Pergunta'][1], piadas_ruins['Resposta'][1])"
   ]
  },
  {
   "cell_type": "code",
   "execution_count": 43,
   "metadata": {},
   "outputs": [],
   "source": [
    "piadas_ruins_perguntas  = df_piadas_ruins['piada'].tolist()\n",
    "piadas_ruins_respostas = df_piadas_ruins['resposta'].tolist()\n"
   ]
  },
  {
   "cell_type": "code",
   "execution_count": 38,
   "metadata": {},
   "outputs": [
    {
     "name": "stdout",
     "output_type": "stream",
     "text": [
      "– Porque ela é um aracneedyou \n"
     ]
    }
   ],
   "source": [
    "#mostra a resposta da piada\n",
    "print(piadas_ruins['Resposta'][piadas_ruins['Pergunta'].index(piada)])"
   ]
  },
  {
   "cell_type": "code",
   "execution_count": 7,
   "metadata": {},
   "outputs": [],
   "source": [
    "#salvar csv\n",
    "df_piadas.to_csv('piadas_ruins.csv', sep=';', encoding='utf-8', index=False)"
   ]
  },
  {
   "cell_type": "code",
   "execution_count": 8,
   "metadata": {},
   "outputs": [],
   "source": [
    "#criar dicionario com a pergunta e a resposta das piadas\n",
    "piadas = dict(zip(df_piadas.piada, df_piadas.resposta))"
   ]
  },
  {
   "cell_type": "code",
   "execution_count": 13,
   "metadata": {},
   "outputs": [
    {
     "ename": "KeyError",
     "evalue": "0",
     "output_type": "error",
     "traceback": [
      "\u001b[1;31m---------------------------------------------------------------------------\u001b[0m",
      "\u001b[1;31mKeyError\u001b[0m                                  Traceback (most recent call last)",
      "Cell \u001b[1;32mIn [13], line 2\u001b[0m\n\u001b[0;32m      1\u001b[0m \u001b[38;5;66;03m#visualizar a a primeira piada\u001b[39;00m\n\u001b[1;32m----> 2\u001b[0m \u001b[43mpiadas\u001b[49m\u001b[43m[\u001b[49m\u001b[38;5;241;43m0\u001b[39;49m\u001b[43m]\u001b[49m\n",
      "\u001b[1;31mKeyError\u001b[0m: 0"
     ]
    }
   ],
   "source": [
    "#visualizar a a primeira a primeira piada\n",
    "piadas['O que é um peixe sem olhos?']"
   ]
  },
  {
   "cell_type": "code",
   "execution_count": null,
   "metadata": {},
   "outputs": [],
   "source": [
    "df['Frase_motivacionais']"
   ]
  },
  {
   "cell_type": "code",
   "execution_count": null,
   "metadata": {},
   "outputs": [],
   "source": [
    "#ler o arquivo csv com requests\n",
    "url = 'https://raw.githubusercontent.com/TassioSales/Portifolio/main/Frases_motivacionais/frases_motivacionaiss.csv'"
   ]
  },
  {
   "cell_type": "code",
   "execution_count": null,
   "metadata": {},
   "outputs": [],
   "source": [
    "#recomendaçao de frases motivacionais\n",
    "import emoji\n",
    "\n",
    "def recomendaçao():\n",
    "    recomendaçao = df['Frase_motivacionais'].sample(1).values[0]\n",
    "    #mostra a frase\n",
    "    print(recomendaçao)\n",
    "    #mostra o emoji aleatorio\n",
    "    \n",
    "    "
   ]
  },
  {
   "cell_type": "code",
   "execution_count": null,
   "metadata": {},
   "outputs": [],
   "source": [
    "recomendaçao()"
   ]
  },
  {
   "cell_type": "code",
   "execution_count": null,
   "metadata": {},
   "outputs": [],
   "source": [
    "recomendaçao()"
   ]
  },
  {
   "cell_type": "code",
   "execution_count": null,
   "metadata": {},
   "outputs": [],
   "source": [
    "recoc"
   ]
  },
  {
   "cell_type": "code",
   "execution_count": null,
   "metadata": {},
   "outputs": [],
   "source": [
    "#salvar dataframe em csv\n",
    "df.to_csv('frases_motivacionaiss.csv', sep=';', encoding='utf-8', index=False)"
   ]
  }
 ],
 "metadata": {
  "kernelspec": {
   "display_name": "Python 3.10.4 64-bit",
   "language": "python",
   "name": "python3"
  },
  "language_info": {
   "codemirror_mode": {
    "name": "ipython",
    "version": 3
   },
   "file_extension": ".py",
   "mimetype": "text/x-python",
   "name": "python",
   "nbconvert_exporter": "python",
   "pygments_lexer": "ipython3",
   "version": "3.10.4"
  },
  "orig_nbformat": 4,
  "vscode": {
   "interpreter": {
    "hash": "b791338c3e88062bab114cb03291c948bb196a0ab0843e63e81bf93440029bb6"
   }
  }
 },
 "nbformat": 4,
 "nbformat_minor": 2
}
