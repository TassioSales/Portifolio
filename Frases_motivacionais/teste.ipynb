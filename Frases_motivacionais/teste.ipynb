{
 "cells": [
  {
   "cell_type": "code",
   "execution_count": 2,
   "metadata": {},
   "outputs": [],
   "source": [
    "import pandas as pd\n",
    "import csv \n",
    "import requests"
   ]
  },
  {
   "cell_type": "code",
   "execution_count": 43,
   "metadata": {},
   "outputs": [],
   "source": [
    "df = pd.read_csv('https://raw.githubusercontent.com/TassioSales/Portifolio/main/Frases_motivacionais/frases_motivacionais.csv', sep=';', encoding='Latin-1')"
   ]
  },
  {
   "cell_type": "code",
   "execution_count": 51,
   "metadata": {},
   "outputs": [
    {
     "ename": "ParserError",
     "evalue": "Error tokenizing data. C error: Expected 1 fields in line 4, saw 3\n",
     "output_type": "error",
     "traceback": [
      "\u001b[1;31m---------------------------------------------------------------------------\u001b[0m",
      "\u001b[1;31mParserError\u001b[0m                               Traceback (most recent call last)",
      "Cell \u001b[1;32mIn [51], line 1\u001b[0m\n\u001b[1;32m----> 1\u001b[0m dados \u001b[38;5;241m=\u001b[39m \u001b[43mpd\u001b[49m\u001b[38;5;241;43m.\u001b[39;49m\u001b[43mread_csv\u001b[49m\u001b[43m(\u001b[49m\u001b[38;5;124;43m'\u001b[39;49m\u001b[38;5;124;43mfrases_motivacionais.csv\u001b[39;49m\u001b[38;5;124;43m'\u001b[39;49m\u001b[43m,\u001b[49m\u001b[43m \u001b[49m\u001b[43msep\u001b[49m\u001b[38;5;241;43m=\u001b[39;49m\u001b[38;5;124;43m'\u001b[39;49m\u001b[38;5;124;43m,\u001b[39;49m\u001b[38;5;124;43m'\u001b[39;49m\u001b[43m,\u001b[49m\u001b[43m \u001b[49m\u001b[43mencoding\u001b[49m\u001b[38;5;241;43m=\u001b[39;49m\u001b[38;5;124;43m'\u001b[39;49m\u001b[38;5;124;43mutf-8\u001b[39;49m\u001b[38;5;124;43m'\u001b[39;49m\u001b[43m)\u001b[49m\n",
      "File \u001b[1;32mc:\\Users\\tassi\\AppData\\Local\\Programs\\Python\\Python310\\lib\\site-packages\\pandas\\util\\_decorators.py:211\u001b[0m, in \u001b[0;36mdeprecate_kwarg.<locals>._deprecate_kwarg.<locals>.wrapper\u001b[1;34m(*args, **kwargs)\u001b[0m\n\u001b[0;32m    209\u001b[0m     \u001b[39melse\u001b[39;00m:\n\u001b[0;32m    210\u001b[0m         kwargs[new_arg_name] \u001b[39m=\u001b[39m new_arg_value\n\u001b[1;32m--> 211\u001b[0m \u001b[39mreturn\u001b[39;00m func(\u001b[39m*\u001b[39margs, \u001b[39m*\u001b[39m\u001b[39m*\u001b[39mkwargs)\n",
      "File \u001b[1;32mc:\\Users\\tassi\\AppData\\Local\\Programs\\Python\\Python310\\lib\\site-packages\\pandas\\util\\_decorators.py:317\u001b[0m, in \u001b[0;36mdeprecate_nonkeyword_arguments.<locals>.decorate.<locals>.wrapper\u001b[1;34m(*args, **kwargs)\u001b[0m\n\u001b[0;32m    311\u001b[0m \u001b[39mif\u001b[39;00m \u001b[39mlen\u001b[39m(args) \u001b[39m>\u001b[39m num_allow_args:\n\u001b[0;32m    312\u001b[0m     warnings\u001b[39m.\u001b[39mwarn(\n\u001b[0;32m    313\u001b[0m         msg\u001b[39m.\u001b[39mformat(arguments\u001b[39m=\u001b[39marguments),\n\u001b[0;32m    314\u001b[0m         \u001b[39mFutureWarning\u001b[39;00m,\n\u001b[0;32m    315\u001b[0m         stacklevel\u001b[39m=\u001b[39mfind_stack_level(inspect\u001b[39m.\u001b[39mcurrentframe()),\n\u001b[0;32m    316\u001b[0m     )\n\u001b[1;32m--> 317\u001b[0m \u001b[39mreturn\u001b[39;00m func(\u001b[39m*\u001b[39margs, \u001b[39m*\u001b[39m\u001b[39m*\u001b[39mkwargs)\n",
      "File \u001b[1;32mc:\\Users\\tassi\\AppData\\Local\\Programs\\Python\\Python310\\lib\\site-packages\\pandas\\io\\parsers\\readers.py:950\u001b[0m, in \u001b[0;36mread_csv\u001b[1;34m(filepath_or_buffer, sep, delimiter, header, names, index_col, usecols, squeeze, prefix, mangle_dupe_cols, dtype, engine, converters, true_values, false_values, skipinitialspace, skiprows, skipfooter, nrows, na_values, keep_default_na, na_filter, verbose, skip_blank_lines, parse_dates, infer_datetime_format, keep_date_col, date_parser, dayfirst, cache_dates, iterator, chunksize, compression, thousands, decimal, lineterminator, quotechar, quoting, doublequote, escapechar, comment, encoding, encoding_errors, dialect, error_bad_lines, warn_bad_lines, on_bad_lines, delim_whitespace, low_memory, memory_map, float_precision, storage_options)\u001b[0m\n\u001b[0;32m    935\u001b[0m kwds_defaults \u001b[39m=\u001b[39m _refine_defaults_read(\n\u001b[0;32m    936\u001b[0m     dialect,\n\u001b[0;32m    937\u001b[0m     delimiter,\n\u001b[1;32m   (...)\u001b[0m\n\u001b[0;32m    946\u001b[0m     defaults\u001b[39m=\u001b[39m{\u001b[39m\"\u001b[39m\u001b[39mdelimiter\u001b[39m\u001b[39m\"\u001b[39m: \u001b[39m\"\u001b[39m\u001b[39m,\u001b[39m\u001b[39m\"\u001b[39m},\n\u001b[0;32m    947\u001b[0m )\n\u001b[0;32m    948\u001b[0m kwds\u001b[39m.\u001b[39mupdate(kwds_defaults)\n\u001b[1;32m--> 950\u001b[0m \u001b[39mreturn\u001b[39;00m _read(filepath_or_buffer, kwds)\n",
      "File \u001b[1;32mc:\\Users\\tassi\\AppData\\Local\\Programs\\Python\\Python310\\lib\\site-packages\\pandas\\io\\parsers\\readers.py:611\u001b[0m, in \u001b[0;36m_read\u001b[1;34m(filepath_or_buffer, kwds)\u001b[0m\n\u001b[0;32m    608\u001b[0m     \u001b[39mreturn\u001b[39;00m parser\n\u001b[0;32m    610\u001b[0m \u001b[39mwith\u001b[39;00m parser:\n\u001b[1;32m--> 611\u001b[0m     \u001b[39mreturn\u001b[39;00m parser\u001b[39m.\u001b[39;49mread(nrows)\n",
      "File \u001b[1;32mc:\\Users\\tassi\\AppData\\Local\\Programs\\Python\\Python310\\lib\\site-packages\\pandas\\io\\parsers\\readers.py:1772\u001b[0m, in \u001b[0;36mTextFileReader.read\u001b[1;34m(self, nrows)\u001b[0m\n\u001b[0;32m   1765\u001b[0m nrows \u001b[39m=\u001b[39m validate_integer(\u001b[39m\"\u001b[39m\u001b[39mnrows\u001b[39m\u001b[39m\"\u001b[39m, nrows)\n\u001b[0;32m   1766\u001b[0m \u001b[39mtry\u001b[39;00m:\n\u001b[0;32m   1767\u001b[0m     \u001b[39m# error: \"ParserBase\" has no attribute \"read\"\u001b[39;00m\n\u001b[0;32m   1768\u001b[0m     (\n\u001b[0;32m   1769\u001b[0m         index,\n\u001b[0;32m   1770\u001b[0m         columns,\n\u001b[0;32m   1771\u001b[0m         col_dict,\n\u001b[1;32m-> 1772\u001b[0m     ) \u001b[39m=\u001b[39m \u001b[39mself\u001b[39;49m\u001b[39m.\u001b[39;49m_engine\u001b[39m.\u001b[39;49mread(  \u001b[39m# type: ignore[attr-defined]\u001b[39;49;00m\n\u001b[0;32m   1773\u001b[0m         nrows\n\u001b[0;32m   1774\u001b[0m     )\n\u001b[0;32m   1775\u001b[0m \u001b[39mexcept\u001b[39;00m \u001b[39mException\u001b[39;00m:\n\u001b[0;32m   1776\u001b[0m     \u001b[39mself\u001b[39m\u001b[39m.\u001b[39mclose()\n",
      "File \u001b[1;32mc:\\Users\\tassi\\AppData\\Local\\Programs\\Python\\Python310\\lib\\site-packages\\pandas\\io\\parsers\\c_parser_wrapper.py:243\u001b[0m, in \u001b[0;36mCParserWrapper.read\u001b[1;34m(self, nrows)\u001b[0m\n\u001b[0;32m    241\u001b[0m \u001b[39mtry\u001b[39;00m:\n\u001b[0;32m    242\u001b[0m     \u001b[39mif\u001b[39;00m \u001b[39mself\u001b[39m\u001b[39m.\u001b[39mlow_memory:\n\u001b[1;32m--> 243\u001b[0m         chunks \u001b[39m=\u001b[39m \u001b[39mself\u001b[39;49m\u001b[39m.\u001b[39;49m_reader\u001b[39m.\u001b[39;49mread_low_memory(nrows)\n\u001b[0;32m    244\u001b[0m         \u001b[39m# destructive to chunks\u001b[39;00m\n\u001b[0;32m    245\u001b[0m         data \u001b[39m=\u001b[39m _concatenate_chunks(chunks)\n",
      "File \u001b[1;32mc:\\Users\\tassi\\AppData\\Local\\Programs\\Python\\Python310\\lib\\site-packages\\pandas\\_libs\\parsers.pyx:808\u001b[0m, in \u001b[0;36mpandas._libs.parsers.TextReader.read_low_memory\u001b[1;34m()\u001b[0m\n",
      "File \u001b[1;32mc:\\Users\\tassi\\AppData\\Local\\Programs\\Python\\Python310\\lib\\site-packages\\pandas\\_libs\\parsers.pyx:866\u001b[0m, in \u001b[0;36mpandas._libs.parsers.TextReader._read_rows\u001b[1;34m()\u001b[0m\n",
      "File \u001b[1;32mc:\\Users\\tassi\\AppData\\Local\\Programs\\Python\\Python310\\lib\\site-packages\\pandas\\_libs\\parsers.pyx:852\u001b[0m, in \u001b[0;36mpandas._libs.parsers.TextReader._tokenize_rows\u001b[1;34m()\u001b[0m\n",
      "File \u001b[1;32mc:\\Users\\tassi\\AppData\\Local\\Programs\\Python\\Python310\\lib\\site-packages\\pandas\\_libs\\parsers.pyx:1973\u001b[0m, in \u001b[0;36mpandas._libs.parsers.raise_parser_error\u001b[1;34m()\u001b[0m\n",
      "\u001b[1;31mParserError\u001b[0m: Error tokenizing data. C error: Expected 1 fields in line 4, saw 3\n"
     ]
    }
   ],
   "source": [
    "dados = pd.read_csv('frases_motivacionais.csv', sep=',', encoding='utf-8')"
   ]
  },
  {
   "cell_type": "code",
   "execution_count": 44,
   "metadata": {},
   "outputs": [
    {
     "ename": "KeyError",
     "evalue": "'Frase_motivacionais'",
     "output_type": "error",
     "traceback": [
      "\u001b[1;31m---------------------------------------------------------------------------\u001b[0m",
      "\u001b[1;31mKeyError\u001b[0m                                  Traceback (most recent call last)",
      "File \u001b[1;32mc:\\Users\\tassi\\AppData\\Local\\Programs\\Python\\Python310\\lib\\site-packages\\pandas\\core\\indexes\\base.py:3800\u001b[0m, in \u001b[0;36mIndex.get_loc\u001b[1;34m(self, key, method, tolerance)\u001b[0m\n\u001b[0;32m   3799\u001b[0m \u001b[39mtry\u001b[39;00m:\n\u001b[1;32m-> 3800\u001b[0m     \u001b[39mreturn\u001b[39;00m \u001b[39mself\u001b[39;49m\u001b[39m.\u001b[39;49m_engine\u001b[39m.\u001b[39;49mget_loc(casted_key)\n\u001b[0;32m   3801\u001b[0m \u001b[39mexcept\u001b[39;00m \u001b[39mKeyError\u001b[39;00m \u001b[39mas\u001b[39;00m err:\n",
      "File \u001b[1;32mc:\\Users\\tassi\\AppData\\Local\\Programs\\Python\\Python310\\lib\\site-packages\\pandas\\_libs\\index.pyx:138\u001b[0m, in \u001b[0;36mpandas._libs.index.IndexEngine.get_loc\u001b[1;34m()\u001b[0m\n",
      "File \u001b[1;32mc:\\Users\\tassi\\AppData\\Local\\Programs\\Python\\Python310\\lib\\site-packages\\pandas\\_libs\\index.pyx:165\u001b[0m, in \u001b[0;36mpandas._libs.index.IndexEngine.get_loc\u001b[1;34m()\u001b[0m\n",
      "File \u001b[1;32mpandas\\_libs\\hashtable_class_helper.pxi:5745\u001b[0m, in \u001b[0;36mpandas._libs.hashtable.PyObjectHashTable.get_item\u001b[1;34m()\u001b[0m\n",
      "File \u001b[1;32mpandas\\_libs\\hashtable_class_helper.pxi:5753\u001b[0m, in \u001b[0;36mpandas._libs.hashtable.PyObjectHashTable.get_item\u001b[1;34m()\u001b[0m\n",
      "\u001b[1;31mKeyError\u001b[0m: 'Frase_motivacionais'",
      "\nThe above exception was the direct cause of the following exception:\n",
      "\u001b[1;31mKeyError\u001b[0m                                  Traceback (most recent call last)",
      "Cell \u001b[1;32mIn [44], line 1\u001b[0m\n\u001b[1;32m----> 1\u001b[0m lista \u001b[38;5;241m=\u001b[39m \u001b[43mdf\u001b[49m\u001b[43m[\u001b[49m\u001b[38;5;124;43m'\u001b[39;49m\u001b[38;5;124;43mFrase_motivacionais\u001b[39;49m\u001b[38;5;124;43m'\u001b[39;49m\u001b[43m]\u001b[49m\u001b[38;5;241m.\u001b[39mtolist()\n",
      "File \u001b[1;32mc:\\Users\\tassi\\AppData\\Local\\Programs\\Python\\Python310\\lib\\site-packages\\pandas\\core\\frame.py:3805\u001b[0m, in \u001b[0;36mDataFrame.__getitem__\u001b[1;34m(self, key)\u001b[0m\n\u001b[0;32m   3803\u001b[0m \u001b[39mif\u001b[39;00m \u001b[39mself\u001b[39m\u001b[39m.\u001b[39mcolumns\u001b[39m.\u001b[39mnlevels \u001b[39m>\u001b[39m \u001b[39m1\u001b[39m:\n\u001b[0;32m   3804\u001b[0m     \u001b[39mreturn\u001b[39;00m \u001b[39mself\u001b[39m\u001b[39m.\u001b[39m_getitem_multilevel(key)\n\u001b[1;32m-> 3805\u001b[0m indexer \u001b[39m=\u001b[39m \u001b[39mself\u001b[39;49m\u001b[39m.\u001b[39;49mcolumns\u001b[39m.\u001b[39;49mget_loc(key)\n\u001b[0;32m   3806\u001b[0m \u001b[39mif\u001b[39;00m is_integer(indexer):\n\u001b[0;32m   3807\u001b[0m     indexer \u001b[39m=\u001b[39m [indexer]\n",
      "File \u001b[1;32mc:\\Users\\tassi\\AppData\\Local\\Programs\\Python\\Python310\\lib\\site-packages\\pandas\\core\\indexes\\base.py:3802\u001b[0m, in \u001b[0;36mIndex.get_loc\u001b[1;34m(self, key, method, tolerance)\u001b[0m\n\u001b[0;32m   3800\u001b[0m     \u001b[39mreturn\u001b[39;00m \u001b[39mself\u001b[39m\u001b[39m.\u001b[39m_engine\u001b[39m.\u001b[39mget_loc(casted_key)\n\u001b[0;32m   3801\u001b[0m \u001b[39mexcept\u001b[39;00m \u001b[39mKeyError\u001b[39;00m \u001b[39mas\u001b[39;00m err:\n\u001b[1;32m-> 3802\u001b[0m     \u001b[39mraise\u001b[39;00m \u001b[39mKeyError\u001b[39;00m(key) \u001b[39mfrom\u001b[39;00m \u001b[39merr\u001b[39;00m\n\u001b[0;32m   3803\u001b[0m \u001b[39mexcept\u001b[39;00m \u001b[39mTypeError\u001b[39;00m:\n\u001b[0;32m   3804\u001b[0m     \u001b[39m# If we have a listlike key, _check_indexing_error will raise\u001b[39;00m\n\u001b[0;32m   3805\u001b[0m     \u001b[39m#  InvalidIndexError. Otherwise we fall through and re-raise\u001b[39;00m\n\u001b[0;32m   3806\u001b[0m     \u001b[39m#  the TypeError.\u001b[39;00m\n\u001b[0;32m   3807\u001b[0m     \u001b[39mself\u001b[39m\u001b[39m.\u001b[39m_check_indexing_error(key)\n",
      "\u001b[1;31mKeyError\u001b[0m: 'Frase_motivacionais'"
     ]
    }
   ],
   "source": [
    "lista = df['Frase_motivacionais'].tolist()"
   ]
  },
  {
   "cell_type": "code",
   "execution_count": 42,
   "metadata": {},
   "outputs": [
    {
     "data": {
      "text/plain": [
       "['A persistÃªncia Ã© o caminho do Ãªxito.',\n",
       " 'O sucesso nasce do querer, da determinaÃ§Ã£o e persistÃªncia em se chegar a um objetivo. Mesmo nÃ£o atingindo o alvo, quem busca e vence obstÃ¡culos, no mÃ\\xadnimo farÃ¡ coisas admirÃ¡veis.',\n",
       " 'DeterminaÃ§Ã£o, coragem e autoconfianÃ§a sÃ£o fatores decisivos para o sucesso. Se estamos possuÃ\\xaddos por uma inabalÃ¡vel determinaÃ§Ã£o, conseguiremos superÃ¡-los. Independentemente das circunstÃ¢ncias, devemos ser sempre humildes, recatados e despidos de orgulho.',\n",
       " 'Agir, eis a inteligÃªncia verdadeira. Serei o que quiser. Mas tenho que querer o que for. O Ãªxito estÃ¡ em ter Ãªxito, e nÃ£o em ter condiÃ§Ãµes de Ãªxito. CondiÃ§Ãµes de palÃ¡cio tem qualquer terra larga, mas onde estarÃ¡ o palÃ¡cio se nÃ£o o fizerem ali?',\n",
       " 'Lute. Acredite. Conquiste. Perca. Deseje. Espere. Alcance. Invada. Caia. Seja tudo o quiser ser, mas, acima de tudo, seja vocÃª sempre.',\n",
       " 'SÃ³ existe um Ãªxito: a capacidade de levar a vida que se quer.',\n",
       " 'A vitalidade Ã© demonstrada nÃ£o apenas pela persistÃªncia, mas pela capacidade de comeÃ§ar de novo.',\n",
       " 'A coragem nÃ£o Ã© ausÃªncia do medo',\n",
       " 'SÃ³ se pode alcanÃ§ar um grande Ãªxito quando nos mantemos fiÃ©is a nÃ³s mesmos.',\n",
       " 'O homem nÃ£o teria alcanÃ§ado o possÃ\\xadvel se, repetidas vezes, nÃ£o tivesse tentado o impossÃ\\xadvel.',\n",
       " 'Lute com determinaÃ§Ã£o, abrace a vida com paixÃ£o, perca com classe e venÃ§a com ousadia, porque o mundo pertence a quem se atreve e a vida Ã© muito para ser insignificante.',\n",
       " 'Todo mundo Ã© capaz de sentir os sofrimentos de um amigo. Ver com agrado os seus Ãªxitos exige uma natureza muito delicada.',\n",
       " 'E sÃ£o tantas marcas, Que jÃ¡ fazem parte,Do que eu sou agora,Mas ainda sei me virar',\n",
       " 'ForÃ§a de Ã¢nimo e coragem na adversidade servem para conquistar o Ãªxito, mais do que um exÃ©rcito.',\n",
       " 'O sucesso tem uma estranha capacidade de esconder o erro.',\n",
       " 'Uma autoimagem forte e positiva Ã© a melhor preparaÃ§Ã£o possÃ\\xadvel para o sucesso.',\n",
       " 'Dois homens nÃ£o podem passar meia hora juntos sem que um conquiste uma evidente superioridade em relaÃ§Ã£o ao outro.',\n",
       " 'Creia em si, mas nÃ£o duvide sempre dos outros.',\n",
       " 'Para ter um negÃ³cio de sucesso, alguÃ©m, algum dia, teve que tomar uma atitude de coragem.',\n",
       " 'A palavra â€œimpossÃ\\xadvelâ€\\x9d foi inventada para ser desafiada.',\n",
       " 'Somos capazes de fazer muito mais do que imaginamos!',\n",
       " 'NÃ³s somos como o clima: feitos de dias de chuva e de sol!',\n",
       " 'HÃ¡ ainda tanta coisa linda na vida para se descobrir.',\n",
       " 'Que todos os nossos passos nos levem para o que nos faz feliz de verdade.',\n",
       " 'Abra os olhos e aventure-se nessa jornada chamada vida!',\n",
       " 'HÃ¡ tantas pessoas que torcem por vocÃª na vida.',\n",
       " 'Os dias difÃ\\xadceis sÃ£o a forma mais rÃ¡pida de aprendermos a apreciar os bons.',\n",
       " 'Siga sempre confiante do seu potencial!',\n",
       " 'Hoje Ã© um novo dia. NÃ£o fique pensando no ontem.',\n",
       " 'A coragem estÃ¡ um passo Ã\\xa0 frente do medo.',\n",
       " 'Os sonhos sÃ£o a melhor forma de termos uma direÃ§Ã£o na vida e um motivo para caminhar.',\n",
       " 'A vitalidade Ã© demonstrada nÃ£o apenas pela persistÃªncia, mas pela capacidade de comeÃ§ar de novo.',\n",
       " 'SÃ³ se pode alcanÃ§ar um grande Ãªxito quando nos mantemos fiÃ©is a nÃ³s mesmos.',\n",
       " 'Lute com determinaÃ§Ã£o, abrace a vida com paixÃ£o, perca com classe e venÃ§a com ousadia, porque o mundo pertence a quem se atreve e a vida Ã© muito para ser insignificante.',\n",
       " 'Receita para uma boa semana: acredite em vocÃª e trate o seu corpo com carinho.',\n",
       " 'Quando tudo parecer impossÃ\\xadvel, Ã© sinal de que estÃ¡ precisando de uns bons dias de descanso para aliviar a pressÃ£o e liberar a sua mente. Depois, verÃ¡ que os problemas nem eram tÃ£o grandes assim.',\n",
       " 'NÃ£o se torture quando as coisas nÃ£o ocorrerem como vocÃª planejou. Os planos nos ajudam a traÃ§ar o caminho, mas Ã© normal que tenhamos que mudÃ¡-los depois!',\n",
       " 'Comece fazendo o que Ã© necessÃ¡rio, depois o que Ã© possÃ\\xadvel, e de repente vocÃª estarÃ¡ fazendo o impossÃ\\xadvel.',\n",
       " 'NÃ£o hÃ¡ a necessidade de caminhar rÃ¡pido. Apenas siga caminhando.',\n",
       " 'A forÃ§a nÃ£o provÃ©m da capacidade fÃ\\xadsica. ProvÃ©m de uma vontade indomÃ¡vel.',\n",
       " 'Se aquela meta antiga jÃ¡ nÃ£o te faz mais feliz, elimine-a sem dÃ³!',\n",
       " 'NÃ£o precisamos conquistar o mundo todos os dias!',\n",
       " 'Dias complicados fazem parte. O bom Ã© que passam e depois aparecem dias bons.',\n",
       " 'A vida Ã© como uma montanha: tem altos e baixos, exige caminhada e tem paisagens para se observar durante todo o caminho.',\n",
       " 'Respeite seu corpo e trate com carinho a sua mente.',\n",
       " 'Em meio ao caos, respire fundo.',\n",
       " 'Acredite em si prÃ³prio e chegarÃ¡ um dia em que os outros nÃ£o terÃ£o outra escolha senÃ£o acreditar com vocÃª.',\n",
       " 'Os nossos sonhos sÃ£o umas das melhores coisas que moram dentro de nÃ³s.',\n",
       " 'Transportai um punhado de terra todos os dias e fareis uma montanha.',\n",
       " 'VocÃª Ã© forte, vocÃª consegue.',\n",
       " 'Se hoje fosse a primeira pÃ¡gina do seu livro da vida, como vocÃª gostaria de comeÃ§ar com ela?',\n",
       " 'NÃ£o existem batalhas impossÃ\\xadveis para quem estÃ¡ disposto a nunca desistir.',\n",
       " 'Algumas coisas ruins acontecem para aprendermos a ficar mais fortes.',\n",
       " 'Nunca Ã© tarde para fazer o que ainda movimenta os seus sonhos.',\n",
       " 'Gostaria que vocÃª soubesse que existe dentro de si uma forÃ§a capaz de mudar sua vida. Basta que lute e aguarde um novo amanhecer.',\n",
       " 'A Ãºnica forma de chegar ao impossÃ\\xadvel Ã© acreditar que Ã© possÃ\\xadvel.',\n",
       " 'A vida se contrai e se expande proporcionalmente Ã\\xa0 coragem do indivÃ\\xadduo.',\n",
       " 'Os nossos maiores medos tambÃ©m podem ser nossos maiores impulsos para novas conquistas.',\n",
       " 'NÃ£o desista de algo quando falarem que vocÃª nÃ£o Ã© capaz. Levante-se e mostre que estÃ£o enganados.',\n",
       " 'Mudar Ã© bom! Aprenda a se redescobrir.',\n",
       " 'HÃ¡ tanta coisa incrÃ\\xadvel para descobrir sobre vocÃª. Desafie-se e permita-se conhecer diferentes lados de vocÃª.',\n",
       " 'Algumas caminhadas precisam ser iniciadas sem ninguÃ©m ao lado. Ao longo do caminho, algumas pessoas vÃ£o se juntar a vocÃª. Fique tranquilo.',\n",
       " 'VocÃª precisa fazer aquilo que pensa que nÃ£o Ã© capaz de fazer.',\n",
       " 'Cuide-se como se vocÃª fosse de ouro, ponha-se vocÃª mesmo de vez em quando numa redoma e poupe-se.',\n",
       " 'Para navegar contra a corrente sÃ£o necessÃ¡rias condiÃ§Ãµes raras: espÃ\\xadrito de aventura, coragem, perseveranÃ§a e paixÃ£o.',\n",
       " 'Seja um borboleta e passe por uma bela metamorfose!',\n",
       " 'A primavera virÃ¡ dentro de vocÃª. Aguente firme.',\n",
       " 'VocÃª jÃ¡ fez uma caminhada tÃ£o bonita atÃ© agora. Parabenize-se.',\n",
       " 'Hoje a meta do dia Ã© ter gratidÃ£o pela vida e se parabenizar por tudo o que vocÃª jÃ¡ fez.',\n",
       " 'Um dia vocÃª estarÃ¡ olhando para trÃ¡s e pensando em todas as conquistas que jÃ¡ fez.',\n",
       " 'NÃ£o coloque metas muito pesadas no seu caminho. NinguÃ©m merece sofrer com um peso desnecessÃ¡rio nas costas!',\n",
       " 'FaÃ§a as pazes com a vida e ande de mÃ£os dadas com ela.',\n",
       " 'Ter sucesso Ã© estar em paz com as nossas escolhas.',\n",
       " 'A nossa maior glÃ³ria nÃ£o reside no fato de nunca cairmos, mas sim em levantarmo-nos sempre depois de cada queda.',\n",
       " 'A paz vem de dentro de vocÃª mesmo. NÃ£o a procure Ã\\xa0 sua volta.',\n",
       " 'Existe apenas um canto do universo que vocÃª pode ter certeza de aperfeiÃ§oar, que Ã© vocÃª mesmo.',\n",
       " 'O coraÃ§Ã£o tem um espaÃ§o limitado. EntÃ£o, vamos deixar sÃ³ o amor entrar e jogar fora o rancor.',\n",
       " 'Algumas pessoas ficam pelo caminho, mas outras maravilhosas tambÃ©m entram ao longo do trajeto.',\n",
       " 'A vida Ã© como um trem: pessoas entram e saem, paisagens novas aparecem, estaÃ§Ãµes oferecem pausas.',\n",
       " 'NÃ£o tenha medo de desistir do que jÃ¡ nÃ£o te faz bem.',\n",
       " 'Ã€s vezes, precisamos de um pouco mais de coragem e de amor prÃ³prio.',\n",
       " 'NÃ£o aceite nada que imponha limites ao que faz parte da sua essÃªncia.',\n",
       " 'Valorize seus amigos e enfrente batalhas com eles! Eles sÃ£o o time que vocÃª escolheu para jogar na vida.',\n",
       " 'Se sentir medo, Ã© sinal de que estÃ¡ bem prÃ³ximo do desafio. Enfrente-o e descubra do que vocÃª Ã© capaz.',\n",
       " 'JÃ¡ sentiu o cheiro das flores hoje? JÃ¡ escutou o canto dos passarinhos? A vida preparou isto tudo para vocÃª tambÃ©m. Aproveite!',\n",
       " 'Cada esquina da vida nos reserva uma surpresa. Descubra o que a prÃ³xima esquina reservou para vocÃª!',\n",
       " 'Algumas coisas dÃ£o errado porque a vida planejou algo melhor.',\n",
       " 'A vida sabe o que faz. DÃª mais crÃ©dito a ela.',\n",
       " 'LiÃ§Ãµes da vida: escute-as.',\n",
       " 'A forÃ§a mais potente do universo Ã© a fÃ©.',\n",
       " 'FaÃ§a sua parte e nÃ£o se preocupe com os outros. Acredite que Deus tambÃ©m fala com eles, e que eles estÃ£o tÃ£o empenhados quanto vocÃª em descobrir o sentido da vida.',\n",
       " 'HÃ¡ uma vida inteira diante de vocÃª. Vamos fazer uma linda histÃ³ria com ela?',\n",
       " 'A motivaÃ§Ã£o Ã© o tipo de coisa que precisa ser reforÃ§ada todos os dias. Como? Alimentando a sua alma de boas energias e deixando o seu coraÃ§Ã£o nutrido de carinho.',\n",
       " 'NinguÃ©m conquista o mundo sem uma boa noite de sono! Tire os problemas do seu travesseiro.',\n",
       " 'Quantas coisas boas jÃ¡ aconteceram depois que tudo fugiu do controle? Os planos da vida sÃ£o tÃ£o bons.',\n",
       " 'A fÃ© e a esperanÃ§a sÃ£o os melhores combustÃ\\xadveis do motor do corpo.',\n",
       " 'Quando cansar, descanse, recupere energias e siga!',\n",
       " 'Aquela forÃ§a que vocÃª busca estÃ¡ dentro de vocÃª.',\n",
       " 'Seja a pessoa que mais acredita em vocÃª!',\n",
       " 'Nem todas as batalhas sÃ£o feitas de vitÃ³ria, mas todas elas sÃ£o feitas de esforÃ§os, de aprendizagens e de recompensas.',\n",
       " 'A primavera chegarÃ¡, mesmo que ninguÃ©m mais saiba seu nome, nem acredite no calendÃ¡rio, nem possua jardim para recebÃª-la.']"
      ]
     },
     "execution_count": 42,
     "metadata": {},
     "output_type": "execute_result"
    }
   ],
   "source": [
    "lista"
   ]
  },
  {
   "cell_type": "code",
   "execution_count": 35,
   "metadata": {},
   "outputs": [
    {
     "data": {
      "text/plain": [
       "0                A persistÃªncia Ã© o caminho do Ãªxito.\n",
       "1      O sucesso nasce do querer, da determinaÃ§Ã£o e...\n",
       "2      DeterminaÃ§Ã£o, coragem e autoconfianÃ§a sÃ£o ...\n",
       "3      Agir, eis a inteligÃªncia verdadeira. Serei o ...\n",
       "4      Lute. Acredite. Conquiste. Perca. Deseje. Espe...\n",
       "                             ...                        \n",
       "96     Quando cansar, descanse, recupere energias e s...\n",
       "97     Aquela forÃ§a que vocÃª busca estÃ¡ dentro de ...\n",
       "98             Seja a pessoa que mais acredita em vocÃª!\n",
       "99     Nem todas as batalhas sÃ£o feitas de vitÃ³ria,...\n",
       "100    A primavera chegarÃ¡, mesmo que ninguÃ©m mais ...\n",
       "Name: Frase_motivacionais, Length: 101, dtype: object"
      ]
     },
     "execution_count": 35,
     "metadata": {},
     "output_type": "execute_result"
    }
   ],
   "source": [
    "df['Frase_motivacionais']"
   ]
  },
  {
   "cell_type": "code",
   "execution_count": 48,
   "metadata": {},
   "outputs": [
    {
     "ename": "FileNotFoundError",
     "evalue": "[Errno 2] No such file or directory: 'https://github.com/TassioSales/Portifolio/blob/95099cfeb5a4c1769729c7c70a049493a7a39d16/Frases_motivacionais/frases_motivacionaiss.csv'",
     "output_type": "error",
     "traceback": [
      "\u001b[1;31m---------------------------------------------------------------------------\u001b[0m",
      "\u001b[1;31mFileNotFoundError\u001b[0m                         Traceback (most recent call last)",
      "Cell \u001b[1;32mIn [48], line 1\u001b[0m\n\u001b[1;32m----> 1\u001b[0m \u001b[38;5;28;01mwith\u001b[39;00m \u001b[38;5;28;43mopen\u001b[39;49m\u001b[43m(\u001b[49m\u001b[38;5;124;43m'\u001b[39;49m\u001b[38;5;124;43mhttps://github.com/TassioSales/Portifolio/blob/95099cfeb5a4c1769729c7c70a049493a7a39d16/Frases_motivacionais/frases_motivacionaiss.csv\u001b[39;49m\u001b[38;5;124;43m'\u001b[39;49m\u001b[43m,\u001b[49m\u001b[43m \u001b[49m\u001b[38;5;124;43m'\u001b[39;49m\u001b[38;5;124;43mr\u001b[39;49m\u001b[38;5;124;43m'\u001b[39;49m\u001b[43m)\u001b[49m \u001b[38;5;28;01mas\u001b[39;00m f:\n\u001b[0;32m      2\u001b[0m     reader \u001b[38;5;241m=\u001b[39m csv\u001b[38;5;241m.\u001b[39mreader(f)\n\u001b[0;32m      3\u001b[0m     \u001b[38;5;28;01mfor\u001b[39;00m row \u001b[38;5;129;01min\u001b[39;00m reader:\n",
      "\u001b[1;31mFileNotFoundError\u001b[0m: [Errno 2] No such file or directory: 'https://github.com/TassioSales/Portifolio/blob/95099cfeb5a4c1769729c7c70a049493a7a39d16/Frases_motivacionais/frases_motivacionaiss.csv'"
     ]
    }
   ],
   "source": [
    "#ler o arquivo csv com requests\n",
    "url = 'https://raw.githubusercontent.com/TassioSales/Portifolio/main/Frases_motivacionais/frases_motivacionaiss.csv'"
   ]
  },
  {
   "cell_type": "code",
   "execution_count": 43,
   "metadata": {},
   "outputs": [],
   "source": [
    "#recomendaçao de frases motivacionais\n",
    "import emoji\n",
    "\n",
    "def recomendaçao():\n",
    "    recomendaçao = df['Frase_motivacionais'].sample(1).values[0]\n",
    "    #mostra a frase\n",
    "    print(recomendaçao)\n",
    "    #mostra o emoji aleatorio\n",
    "    \n",
    "    "
   ]
  },
  {
   "cell_type": "code",
   "execution_count": 44,
   "metadata": {},
   "outputs": [
    {
     "name": "stdout",
     "output_type": "stream",
     "text": [
      "A primavera chegará, mesmo que ninguém mais saiba seu nome, nem acredite no calendário, nem possua jardim para recebê-la.\n",
      "👍\n"
     ]
    }
   ],
   "source": [
    "recomendaçao()"
   ]
  },
  {
   "cell_type": "code",
   "execution_count": 33,
   "metadata": {},
   "outputs": [
    {
     "name": "stdout",
     "output_type": "stream",
     "text": [
      "Acredite em si próprio e chegará um dia em que os outros não terão outra escolha senão acreditar com você.\n"
     ]
    }
   ],
   "source": [
    "recomendaçao()"
   ]
  },
  {
   "cell_type": "code",
   "execution_count": 28,
   "metadata": {},
   "outputs": [
    {
     "data": {
      "text/html": [
       "<div>\n",
       "<style scoped>\n",
       "    .dataframe tbody tr th:only-of-type {\n",
       "        vertical-align: middle;\n",
       "    }\n",
       "\n",
       "    .dataframe tbody tr th {\n",
       "        vertical-align: top;\n",
       "    }\n",
       "\n",
       "    .dataframe thead th {\n",
       "        text-align: right;\n",
       "    }\n",
       "</style>\n",
       "<table border=\"1\" class=\"dataframe\">\n",
       "  <thead>\n",
       "    <tr style=\"text-align: right;\">\n",
       "      <th></th>\n",
       "      <th>Frase_motivacionais</th>\n",
       "    </tr>\n",
       "  </thead>\n",
       "  <tbody>\n",
       "    <tr>\n",
       "      <th>43</th>\n",
       "      <td>Você precisa fazer aquilo que pensa que não é ...</td>\n",
       "    </tr>\n",
       "  </tbody>\n",
       "</table>\n",
       "</div>"
      ],
      "text/plain": [
       "                                  Frase_motivacionais\n",
       "43  Você precisa fazer aquilo que pensa que não é ..."
      ]
     },
     "execution_count": 28,
     "metadata": {},
     "output_type": "execute_result"
    }
   ],
   "source": [
    "recoc"
   ]
  },
  {
   "cell_type": "code",
   "execution_count": 19,
   "metadata": {},
   "outputs": [],
   "source": [
    "#salvar dataframe em csv\n",
    "df.to_csv('frases_motivacionaiss.csv', sep=';', encoding='utf-8', index=False)"
   ]
  }
 ],
 "metadata": {
  "kernelspec": {
   "display_name": "Python 3.10.4 64-bit",
   "language": "python",
   "name": "python3"
  },
  "language_info": {
   "codemirror_mode": {
    "name": "ipython",
    "version": 3
   },
   "file_extension": ".py",
   "mimetype": "text/x-python",
   "name": "python",
   "nbconvert_exporter": "python",
   "pygments_lexer": "ipython3",
   "version": "3.10.4"
  },
  "orig_nbformat": 4,
  "vscode": {
   "interpreter": {
    "hash": "b791338c3e88062bab114cb03291c948bb196a0ab0843e63e81bf93440029bb6"
   }
  }
 },
 "nbformat": 4,
 "nbformat_minor": 2
}
