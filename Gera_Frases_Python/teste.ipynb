{
 "cells": [
  {
   "cell_type": "code",
   "execution_count": 29,
   "metadata": {},
   "outputs": [],
   "source": [
    "import pandas as pd\n",
    "import csv \n",
    "import requests\n",
    "import random"
   ]
  },
  {
   "cell_type": "code",
   "execution_count": null,
   "metadata": {},
   "outputs": [],
   "source": [
    "df5= pd.read_csv('motivacionais.csv', sep=',', encoding='utf-8')"
   ]
  },
  {
   "cell_type": "code",
   "execution_count": null,
   "metadata": {},
   "outputs": [],
   "source": [
    "#descer o nome da coluna pra linha 0\n",
    "df5.columns = df5.iloc[0]\n",
    "df5 = df5[1:]\n"
   ]
  },
  {
   "cell_type": "code",
   "execution_count": null,
   "metadata": {},
   "outputs": [],
   "source": [
    "df = pd.read_csv('piadas.csv', sep=';', encoding='utf-8')"
   ]
  },
  {
   "cell_type": "code",
   "execution_count": null,
   "metadata": {},
   "outputs": [],
   "source": [
    "dados = pd.read_csv('frases_motivacionais.csv', sep=',', encoding='utf-8')"
   ]
  },
  {
   "cell_type": "code",
   "execution_count": 44,
   "metadata": {},
   "outputs": [],
   "source": [
    "df_piadas_ruins = pd.read_csv('https://raw.githubusercontent.com/TassioSales/Portifolio/main/Frases_motivacionais/piadas_ruins.csv', sep=';', encoding='utf-8')"
   ]
  },
  {
   "cell_type": "code",
   "execution_count": 45,
   "metadata": {},
   "outputs": [],
   "source": [
    "piadas_ruins_perguntas  = df_piadas_ruins['piada'].tolist()"
   ]
  },
  {
   "cell_type": "code",
   "execution_count": 46,
   "metadata": {},
   "outputs": [
    {
     "data": {
      "text/plain": [
       "['– Por que a\\xa0aranha\\xa0é o animal mais carente do mundo?',\n",
       " '– Sabia que tomar suco devagar é mais gostoso?',\n",
       " '– Por que o pinheiro não se perde na\\xa0floresta?',\n",
       " '– Viu que a vó tá sem relógio?',\n",
       " '– Sabe como é a piada do pintinho caipira?',\n",
       " '-Daqui a pouco esses frutos do mar vão dormir, sabia?',\n",
       " '– Sabe onde a priminha conseguiu as bonecas dela?',\n",
       " '– O que o pagodeiro foi fazer na igreja?',\n",
       " '– Por que o Napoleão era chamado sempre para as festas na França?',\n",
       " '#NOME?',\n",
       " '– O que aconteceu com os lápis quando souberam que o dono da Faber Castell morreu?',\n",
       " '#NOME?',\n",
       " '– A plantinha foi ao\\xa0hospital,\\xa0mas não foi atendida. Por quê?',\n",
       " '– Você conhece o site do cavalinho?',\n",
       " '– Deve ser difícil ser professor de natação. Por que?',\n",
       " '– Qual é a fórmula da água benta?',\n",
       " '– Qual é o rei dos queijos?',\n",
       " '– O que o pato falou para a\\xa0pata?',\n",
       " '– Sabia que essa carne já foi um peto um dia? ',\n",
       " '– O que é, o que é: M@conh@ enrolada no jornal?',\n",
       " '– Qual campeonato é melhor que aspirina?',\n",
       " '– O que a vaca disse pro boi?',\n",
       " '– O que a\\xa0Xuxa\\xa0foi fazer no bar?',\n",
       " '– Havia dois caminhões voando. Um caiu. Por que o outro continuou voando?',\n",
       " '– O que o Aquaman faz para salvar o mundo?',\n",
       " '– Por que a formiga tem quatro patas?',\n",
       " '– O que acontece quando chove na Inglaterra?',\n",
       " '– Qual a diferença de 14h para 2h?',\n",
       " '#NOME?',\n",
       " '– O que o tomate foi fazer no\\xa0banco?',\n",
       " '– Como se chama a pessoa que viu o Thor de perto?',\n",
       " '– Por que há uma cama elástica no polo Norte?',\n",
       " '– Quero terminar, você é muito imaturo',\n",
       " 'Fui comprar um remédio e o farmacêutico perguntou se eu tinha receita.',\n",
       " '– Qual é a maior injustiça do Natal?',\n",
       " '– Qual é o doce preferido do átomo?',\n",
       " '– Qual é o único prato que ninguém consegue fazer direito?',\n",
       " '– O que é um pontinho amarelo na limusine?',\n",
       " '– Quando os americanos comeram carne pela primeira vez?',\n",
       " 'Robin vivia brigando com o irmão, que um dia o dedurou para a mãe.',\n",
       " '– O que a zebra disse para a mosca?',\n",
       " '– O que é um\\xa0astrólogo\\xa0andando a cavalo?',\n",
       " '– Qual é o cachorro que vai à missa todo dia?',\n",
       " '– Um gatinho miou para a lua, porém ela não respondeu. Por quê?',\n",
       " '– Como o átomo atende ao telefone?',\n",
       " '– O que aconteceu quando o policial se olhou no espelho ?',\n",
       " '– Qual é a comida que liga e desliga?',\n",
       " '– Por que o jacaré tirou o filho da escola?',\n",
       " '#NOME?',\n",
       " 'O que estará escrito na lápide do Papai Noel?',\n",
       " '#NOME?',\n",
       " '- Qual é o oposto de\\xa0volátil?',\n",
       " '#NOME?',\n",
       " '#NOME?',\n",
       " 'Qual é a fórmula da água benta?',\n",
       " '- Querido, o relógio da parede quase caiu na cabeça da mamãe.',\n",
       " '#NOME?',\n",
       " '#NOME?',\n",
       " '#NOME?',\n",
       " 'Como se chama é o coveiro do cemitério?',\n",
       " 'Ei, por que você não ligou o chuveiro?',\n",
       " 'Qual a cidade brasileira onde não tem táxis?',\n",
       " 'Qual é o peixe que caiu do 10º andar?',\n",
       " 'Como se chama alguém que nasceu no Brasil, viveu na Escócia, se mudou para a África e morreu na China?',\n",
       " 'Quer saber um bom chá para a calvície?',\n",
       " 'Por que o jacaré tirou o filho da escola?',\n",
       " 'Para que servem os óculos vermelhos?',\n",
       " 'O que um tijolo falou para o outro?',\n",
       " 'Por que a macaca Chita ficou braba com o Tarzan?',\n",
       " 'Como fazer um nó em duas motos?',\n",
       " 'Há duas palavras que abrem muitas portas.',\n",
       " 'O que o Aquaman faz para salvar o mundo?']"
      ]
     },
     "execution_count": 46,
     "metadata": {},
     "output_type": "execute_result"
    }
   ],
   "source": [
    "piadas_ruins_perguntas"
   ]
  },
  {
   "cell_type": "code",
   "execution_count": 31,
   "metadata": {},
   "outputs": [],
   "source": [
    "#renomear as colunas\n",
    "piadas_ruins = {'Pergunta': df_piadas['piada'].tolist(), 'Resposta': df_piadas['resposta'].tolist()}"
   ]
  },
  {
   "cell_type": "code",
   "execution_count": 25,
   "metadata": {},
   "outputs": [
    {
     "name": "stdout",
     "output_type": "stream",
     "text": [
      "– Por que a aranha é o animal mais carente do mundo? – Porque ela é um aracneedyou \n",
      "– Sabia que tomar suco devagar é mais gostoso? – Porque é mais sucolento.\n"
     ]
    }
   ],
   "source": [
    "#ver a primeira pergunta e reportas\n",
    "print(piadas_ruins['Pergunta'][0], piadas_ruins['Resposta'][0])\n",
    "print(piadas_ruins['Pergunta'][1], piadas_ruins['Resposta'][1])"
   ]
  },
  {
   "cell_type": "code",
   "execution_count": 43,
   "metadata": {},
   "outputs": [],
   "source": [
    "piadas_ruins_perguntas  = df_piadas_ruins['piada'].tolist()\n",
    "piadas_ruins_respostas = df_piadas_ruins['resposta'].tolist()\n"
   ]
  },
  {
   "cell_type": "code",
   "execution_count": 38,
   "metadata": {},
   "outputs": [
    {
     "name": "stdout",
     "output_type": "stream",
     "text": [
      "– Porque ela é um aracneedyou \n"
     ]
    }
   ],
   "source": [
    "#mostra a resposta da piada\n",
    "print(piadas_ruins['Resposta'][piadas_ruins['Pergunta'].index(piada)])"
   ]
  },
  {
   "cell_type": "code",
   "execution_count": 7,
   "metadata": {},
   "outputs": [],
   "source": [
    "#salvar csv\n",
    "df_piadas.to_csv('piadas_ruins.csv', sep=';', encoding='utf-8', index=False)"
   ]
  },
  {
   "cell_type": "code",
   "execution_count": 8,
   "metadata": {},
   "outputs": [],
   "source": [
    "#criar dicionario com a pergunta e a resposta das piadas\n",
    "piadas = dict(zip(df_piadas.piada, df_piadas.resposta))"
   ]
  },
  {
   "cell_type": "code",
   "execution_count": 13,
   "metadata": {},
   "outputs": [
    {
     "ename": "KeyError",
     "evalue": "0",
     "output_type": "error",
     "traceback": [
      "\u001b[1;31m---------------------------------------------------------------------------\u001b[0m",
      "\u001b[1;31mKeyError\u001b[0m                                  Traceback (most recent call last)",
      "Cell \u001b[1;32mIn [13], line 2\u001b[0m\n\u001b[0;32m      1\u001b[0m \u001b[38;5;66;03m#visualizar a a primeira piada\u001b[39;00m\n\u001b[1;32m----> 2\u001b[0m \u001b[43mpiadas\u001b[49m\u001b[43m[\u001b[49m\u001b[38;5;241;43m0\u001b[39;49m\u001b[43m]\u001b[49m\n",
      "\u001b[1;31mKeyError\u001b[0m: 0"
     ]
    }
   ],
   "source": [
    "#visualizar a a primeira a primeira piada\n",
    "piadas['O que é um peixe sem olhos?']"
   ]
  },
  {
   "cell_type": "code",
   "execution_count": null,
   "metadata": {},
   "outputs": [],
   "source": [
    "df['Frase_motivacionais']"
   ]
  },
  {
   "cell_type": "code",
   "execution_count": null,
   "metadata": {},
   "outputs": [],
   "source": [
    "#ler o arquivo csv com requests\n",
    "url = 'https://raw.githubusercontent.com/TassioSales/Portifolio/main/Frases_motivacionais/frases_motivacionaiss.csv'"
   ]
  },
  {
   "cell_type": "code",
   "execution_count": null,
   "metadata": {},
   "outputs": [],
   "source": [
    "#recomendaçao de frases motivacionais\n",
    "import emoji\n",
    "\n",
    "def recomendaçao():\n",
    "    recomendaçao = df['Frase_motivacionais'].sample(1).values[0]\n",
    "    #mostra a frase\n",
    "    print(recomendaçao)\n",
    "    #mostra o emoji aleatorio\n",
    "    \n",
    "    "
   ]
  },
  {
   "cell_type": "code",
   "execution_count": null,
   "metadata": {},
   "outputs": [],
   "source": [
    "recomendaçao()"
   ]
  },
  {
   "cell_type": "code",
   "execution_count": null,
   "metadata": {},
   "outputs": [],
   "source": [
    "recomendaçao()"
   ]
  },
  {
   "cell_type": "code",
   "execution_count": null,
   "metadata": {},
   "outputs": [],
   "source": [
    "recoc"
   ]
  },
  {
   "cell_type": "code",
   "execution_count": null,
   "metadata": {},
   "outputs": [],
   "source": [
    "#salvar dataframe em csv\n",
    "df.to_csv('frases_motivacionaiss.csv', sep=';', encoding='utf-8', index=False)"
   ]
  }
 ],
 "metadata": {
  "kernelspec": {
   "display_name": "Python 3.10.4 64-bit",
   "language": "python",
   "name": "python3"
  },
  "language_info": {
   "codemirror_mode": {
    "name": "ipython",
    "version": 3
   },
   "file_extension": ".py",
   "mimetype": "text/x-python",
   "name": "python",
   "nbconvert_exporter": "python",
   "pygments_lexer": "ipython3",
   "version": "3.10.4"
  },
  "orig_nbformat": 4,
  "vscode": {
   "interpreter": {
    "hash": "b791338c3e88062bab114cb03291c948bb196a0ab0843e63e81bf93440029bb6"
   }
  }
 },
 "nbformat": 4,
 "nbformat_minor": 2
}
